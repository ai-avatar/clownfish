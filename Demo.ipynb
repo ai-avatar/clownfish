{
 "cells": [
  {
   "cell_type": "code",
   "execution_count": 1,
   "id": "2db64886-601c-47dc-b099-90fa7deee5cd",
   "metadata": {},
   "outputs": [],
   "source": [
    "import torch\n",
    "\n",
    "from transformers import pipeline\n",
    "from transformers import AutoTokenizer\n",
    "from transformers import AutoModelForCausalLM, AutoModel\n",
    "from transformers import LogitsProcessor\n",
    "from transformers import GPT2LMHeadModel, GPT2TokenizerFast\n",
    "\n",
    "device = 'cuda'\n",
    "model_id = 'gpt2-xl'\n",
    "tokenizer = GPT2TokenizerFast.from_pretrained(model_id)\n",
    "model = GPT2LMHeadModel.from_pretrained(model_id, pad_token_id=tokenizer.eos_token_id).to(device)"
   ]
  },
  {
   "cell_type": "markdown",
   "id": "1e1a14bd-c110-420f-b560-96e2e42b7eed",
   "metadata": {},
   "source": [
    "# Examples from the Readme"
   ]
  },
  {
   "cell_type": "code",
   "execution_count": null,
   "id": "5aab34ff-070e-4e48-8720-5e1ad1da7195",
   "metadata": {},
   "outputs": [],
   "source": [
    "import clownfish\n",
    "from clownfish import parser_for_type, create, create_api\n",
    "import importlib\n",
    "importlib.reload(clownfish)"
   ]
  },
  {
   "cell_type": "code",
   "execution_count": 11,
   "id": "3f6648ba-94b3-49d2-917b-a602f0056596",
   "metadata": {},
   "outputs": [
    {
     "name": "stdout",
     "output_type": "stream",
     "text": [
      "\n",
      "  { \"list\": [ { \"type\": \"egg\", \"count\":3 }, { \"type\": \"apple\", \"count\":7 }, { \"type\": \"bread\", \"count\":5 } ] }"
     ]
    },
    {
     "data": {
      "text/plain": [
       "(ShoppingList(list=[Ingredient(type='egg', count=3.0), Ingredient(type='apple', count=7.0), Ingredient(type='bread', count=5.0)]),\n",
       " tensor(1.8488))"
      ]
     },
     "execution_count": 11,
     "metadata": {},
     "output_type": "execute_result"
    }
   ],
   "source": [
    "from pydantic import BaseModel\n",
    "\n",
    "class Ingredient(BaseModel):\n",
    "    type: str\n",
    "    count: float\n",
    "    \n",
    "class ShoppingList(BaseModel):\n",
    "    list: list[Ingredient]\n",
    "\n",
    "create(tokenizer, model, 'cuda', ShoppingList, \"A shopping list that has 3 eggs, 7 apples and 5 loaves of bread in JSON: \")"
   ]
  },
  {
   "cell_type": "code",
   "execution_count": 13,
   "id": "2e9fc79a-b0f1-4ba1-85e9-35ef028b5f09",
   "metadata": {},
   "outputs": [
    {
     "name": "stdout",
     "output_type": "stream",
     "text": [
      "  { \"street_number\":111, \"street_name\": \"Central Park N\", \"zip_code\": \"10026\" }(Address(street_number=111.0, street_name='Central Park N', zip_code='10026'), tensor(1.5181))\n",
      "  { \"street_number\":123, \"street_name\": \"Main St\", \"zip_code\": \"10022\" }(Address(street_number=123.0, street_name='Main St', zip_code='10022'), tensor(1.3475))\n",
      "  { \"street_number\":111, \"street_name\": \"I am a banana\", \"zip_code\": \"10026\" }(Address(street_number=111.0, street_name='I am a banana', zip_code='10026'), tensor(1.6365))\n",
      "  { \"street_number\":1188, \"street_name\": \"Mission St\", \"zip_code\": \"94017\" }(Address(street_number=1188.0, street_name='Mission St', zip_code='94017'), tensor(1.4449))\n",
      "  { \"street_number\":12, \"street_name\": \"1st St\", \"zip_code\": \"60625\" }(Address(street_number=12.0, street_name='1st St', zip_code='60625'), tensor(1.6610))\n",
      "  { \"street_number\":2, \"street_name\": \"Chicago\", \"zip_code\": \"60606\" }(Address(street_number=2.0, street_name='Chicago', zip_code='60606'), tensor(1.9208))\n"
     ]
    }
   ],
   "source": [
    "class Address(BaseModel):\n",
    "    street_number: float\n",
    "    street_name: str\n",
    "    zip_code: str\n",
    "    \n",
    "ONE_SHOT = \"\"\"The following address parsed as JSON: 111 Central Park N, New York, NY { \"street_number\": 111, \"street_name\": \"Central Park N\", zip_code: \"10026\" }\n",
    "The following address parsed as JSON: \"\"\"\n",
    "\n",
    "print(create(tokenizer, model, 'cuda', Address, ONE_SHOT + \"111 Central Park N, New York, NY 10026 \"))\n",
    "print(create(tokenizer, model, 'cuda', Address, ONE_SHOT + \"123 Main St, New York, NY 10022 \"))\n",
    "print(create(tokenizer, model, 'cuda', Address, ONE_SHOT + \"I am a banana \"))\n",
    "print(create(tokenizer, model, 'cuda', Address, ONE_SHOT + \"1188 Mission St, Apt 17, San Francisco, CA 94017 \"))\n",
    "print(create(tokenizer, model, 'cuda', Address, ONE_SHOT + \"12 and a half 1st St, Chicago, IL, 39443 \"))\n",
    "print(create(tokenizer, model, 'cuda', Address, ONE_SHOT + \"Chicago, IL \"))"
   ]
  },
  {
   "cell_type": "code",
   "execution_count": null,
   "id": "d15ab015-63f8-4b26-81ca-f3386644eb6f",
   "metadata": {},
   "outputs": [],
   "source": [
    "import openai\n",
    "openai.api_key = input()"
   ]
  },
  {
   "cell_type": "code",
   "execution_count": 64,
   "id": "18ffd4d6-8c4c-43e4-a517-de7c7accdb75",
   "metadata": {},
   "outputs": [
    {
     "name": "stdout",
     "output_type": "stream",
     "text": [
      "{ \"list\": [{\"type\":\"eggs\", \"count\":3 },{ \"type\":\"apples\", \"count\":7 },{ \"type\":\"bread\", \"count\":5 }] }\n",
      "\n",
      "Complete with usage: 360 , prompt + final token count 60\n"
     ]
    },
    {
     "data": {
      "text/plain": [
       "ShoppingList(list=[Ingredient(type='eggs', count=3.0), Ingredient(type='apples', count=7.0), Ingredient(type='bread', count=5.0)])"
      ]
     },
     "execution_count": 64,
     "metadata": {},
     "output_type": "execute_result"
    }
   ],
   "source": [
    "class Ingredient(BaseModel):\n",
    "    type: str\n",
    "    count: float\n",
    "    \n",
    "class ShoppingList(BaseModel):\n",
    "    list: list[Ingredient]\n",
    "\n",
    "create_api(tokenizer, ShoppingList, \"A shopping list that has 3 eggs, 7 apples and 5 loaves of bread in JSON: \", 1000)"
   ]
  },
  {
   "cell_type": "code",
   "execution_count": 43,
   "id": "f781e34b-8e6f-48f5-ab9d-53f63ef56fff",
   "metadata": {},
   "outputs": [
    {
     "name": "stdout",
     "output_type": "stream",
     "text": [
      "{ \"list\": [{\"type\":\"eggs\", \"count\":3}, {\"type\":\"apples\", \"count\":7}, {\"type\":\"loaves of bread\", \"count\":5}] }\n",
      "\n",
      "Complete with usage: 312 , prompt + final token count 82\n"
     ]
    },
    {
     "data": {
      "text/plain": [
       "ShoppingList(list=[Ingredient(type='eggs', count=3.0), Ingredient(type='apples', count=7.0), Ingredient(type='loaves of bread', count=5.0)])"
      ]
     },
     "execution_count": 43,
     "metadata": {},
     "output_type": "execute_result"
    }
   ],
   "source": [
    "create_api(tokenizer, ShoppingList, \"A shopping list in the format { \\\"list\\\": [{\\\"type\\\":str, \\\"count\\\": int}, ...] } that has 3 eggs, 7 apples and 5 loaves of bread in JSON: \", 1000)"
   ]
  },
  {
   "cell_type": "markdown",
   "id": "3b29fdf1-9cf9-4ac2-a472-32db55ba4c55",
   "metadata": {},
   "source": [
    "# A GPT2 Is easily distracted (and doesn't know history)\n",
    "What was that about party again?\n",
    "\n",
    "Meanwhile, Clownfish will happily oblige"
   ]
  },
  {
   "cell_type": "code",
   "execution_count": 14,
   "id": "5869179d-b2f1-4364-b826-2d653fb14a1b",
   "metadata": {},
   "outputs": [
    {
     "name": "stdout",
     "output_type": "stream",
     "text": [
      "Output:\n",
      "----------------------------------------------------------------------------------------------------\n",
      "A list in JSON of the first 3 US presidents with format [{ \"number\": int, \"name\": string, \"party\": \"dem\" or \"rep\"}]: [ { \"name\": \"George Washington\", \"number\": 1 }, { \"name\": \"James Madison\", \"number\": 2 }, { \"name\": \"John Adams\", \"number\": 3 } ]\n",
      "\n",
      "The following example shows how to use the JSON API to retrieve the first three US presidents.\n",
      "\n",
      "GET /\n"
     ]
    }
   ],
   "source": [
    "inputs = tokenizer.encode(\"A list in JSON of the first 3 US presidents with format [{ \\\"number\\\": int, \\\"name\\\": string, \\\"party\\\": \\\"dem\\\" or \\\"rep\\\"}]: [ { \\\"name\\\":\", return_tensors=\"pt\").to(device)\n",
    "outputs = model.generate(inputs, max_length=100)\n",
    "\n",
    "print(\"Output:\\n\" + 100 * '-')\n",
    "print(tokenizer.decode(outputs[0], skip_special_tokens=True))"
   ]
  },
  {
   "cell_type": "code",
   "execution_count": 18,
   "id": "54cfb7da-e385-4e3f-bc9a-ce3ed0070d33",
   "metadata": {},
   "outputs": [
    {
     "name": "stdout",
     "output_type": "stream",
     "text": [
      "\n",
      "  { \"list\" : [ { \"full_name\" : \"George Washington\", \"party\" : \"Republican\" }, { \"full_name\" : \"Thomas Jefferson\", \"party\" : \"Democratic\" }, { \"full_name\" : \"James Madison\", \"party\" : \"Republican\" }, { \"full_name\" : \"John Adams\", \"party\" : \"Democratic\" } ] }"
     ]
    },
    {
     "data": {
      "text/plain": [
       "(Response(list=[President(full_name='George Washington', party='Republican'), President(full_name='Thomas Jefferson', party='Democratic'), President(full_name='James Madison', party='Republican'), President(full_name='John Adams', party='Democratic')]),\n",
       " tensor(1.8934))"
      ]
     },
     "execution_count": 18,
     "metadata": {},
     "output_type": "execute_result"
    }
   ],
   "source": [
    "class President(BaseModel):\n",
    "    full_name: str\n",
    "    party: str\n",
    "    \n",
    "class Response(BaseModel):\n",
    "    list: list[President]\n",
    "    \n",
    "create(tokenizer, model, 'cuda', Response, \"A list in JSON of the first 3 US presidents: \")"
   ]
  },
  {
   "cell_type": "code",
   "execution_count": 66,
   "id": "80ec5f5e-af09-4148-bedf-f2f9bfcf4bfc",
   "metadata": {},
   "outputs": [
    {
     "name": "stdout",
     "output_type": "stream",
     "text": [
      "{ \"list\": [{\"full_name\":\"George Washington\", \"party\":\"Independent\"}, {\"full_name\":\"John Adams\", \"party\":\"Federalist\"}, {\"full_name\":\"Thomas Jefferson\", \"party\":\"Democratic-Republican\"}] }\n",
      "\n",
      "Complete with usage: 183 , prompt + final token count 60\n"
     ]
    },
    {
     "data": {
      "text/plain": [
       "Response(list=[President(full_name='George Washington', party='Independent'), President(full_name='John Adams', party='Federalist'), President(full_name='Thomas Jefferson', party='Democratic-Republican')])"
      ]
     },
     "execution_count": 66,
     "metadata": {},
     "output_type": "execute_result"
    }
   ],
   "source": [
    "create_api(tokenizer, Response, \"A list in JSON of the first 3 US presidents: \", 1000)"
   ]
  },
  {
   "cell_type": "markdown",
   "id": "4809fcf4-d3a2-4dd2-a851-efa499271b9d",
   "metadata": {},
   "source": [
    "# Should You Trust GPT2 With Your Diet?\n",
    "\n",
    "Probably not, but it does seem fairly confident you should eat spinahs and not eat lard."
   ]
  },
  {
   "cell_type": "code",
   "execution_count": 21,
   "id": "b686f8a9-a79c-498d-90fc-220f8bcaeb98",
   "metadata": {},
   "outputs": [
    {
     "name": "stdout",
     "output_type": "stream",
     "text": [
      "  { \"healthy\":\"n\" }(Result(healthy='n'), tensor(3.1886))\n",
      "  { \"healthy\":\"n\" }(Result(healthy='n'), tensor(3.0601))\n",
      "  { \"healthy\":\"y\" }(Result(healthy='y'), tensor(3.0842))\n",
      "  { \"healthy\":\"n\" }(Result(healthy='n'), tensor(3.1398))\n",
      "  { \"healthy\":\"n\" }(Result(healthy='n'), tensor(3.2215))\n",
      "  { \"healthy\":\"y\" }(Result(healthy='y'), tensor(3.4784))\n",
      "  { \"healthy\":\"y\" }(Result(healthy='y'), tensor(3.0835))\n"
     ]
    }
   ],
   "source": [
    "from typing import Literal\n",
    "\n",
    "class Result(BaseModel):\n",
    "    healthy: Literal[\"y\", \"n\"]\n",
    "\n",
    "ONE_SHOT = \"\"\"JSON evaluation for the healthiness of chips: { \"healthy\": \"n\" }\n",
    "JSON evaluation for the healthiness of carrots: { \"healthy\": \"y\" }\n",
    "JSON evaluation for the healthiness of \"\"\"\n",
    "print(create(tokenizer, model, 'cuda', Result, ONE_SHOT + \"chips: \"))\n",
    "print(create(tokenizer, model, 'cuda', Result, ONE_SHOT + \"lard: \"))\n",
    "print(create(tokenizer, model, 'cuda', Result, ONE_SHOT + \"spinach: \"))\n",
    "print(create(tokenizer, model, 'cuda', Result, ONE_SHOT + \"cake: \"))\n",
    "print(create(tokenizer, model, 'cuda', Result, ONE_SHOT + \"fried donut: \"))\n",
    "print(create(tokenizer, model, 'cuda', Result, ONE_SHOT + \"weofijwef: \"))\n",
    "print(create(tokenizer, model, 'cuda', Result, ONE_SHOT + \"salad: \"))"
   ]
  }
 ],
 "metadata": {
  "kernelspec": {
   "display_name": "Python 3 (ipykernel)",
   "language": "python",
   "name": "python3"
  },
  "language_info": {
   "codemirror_mode": {
    "name": "ipython",
    "version": 3
   },
   "file_extension": ".py",
   "mimetype": "text/x-python",
   "name": "python",
   "nbconvert_exporter": "python",
   "pygments_lexer": "ipython3",
   "version": "3.9.13"
  }
 },
 "nbformat": 4,
 "nbformat_minor": 5
}
